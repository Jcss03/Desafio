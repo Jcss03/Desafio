{
 "cells": [
  {
   "cell_type": "code",
   "execution_count": 46,
   "metadata": {
    "scrolled": true
   },
   "outputs": [
    {
     "data": {
      "text/plain": [
       "[['\"RAZÃO SOCIAL\";\"NOME FANTASIA\";\"CNPJ\";\"NATUREZA JURIDICA\";\"DATA INICIO OPERAÇÃO\";\"PORTE\";\"SITUAÇÃO\";\"TIPO ATIVIDADE\";\"SUBTIPO ATIVIDADE\";\"CEP\";\"UF\";\"LOCALIDADE\";\"BAIRRO\";\"LOGRADOURO\";\"TELEFONE\";\"FAX\";\"E-MAIL2\";\"E-MAIL3\";\"SITE\";\"CÓDIGO CERTIFICADO\";\"CÓDIGO E DESCRIÇÃO CNAE\";\"UH\";\"UHs ACESSÍVEIS\";\"UHs PARA CAO GUIA\";\"UHs TPS\";\"TOTAL DE LEITOS\";\"LINGUAS\";\"SEGMENTOS TURISTICOS\";\"SERVIÇOS\";\"EQUIPAMENTOS\"'],\n",
       " ['*****;HOTEL GONÇALVES;\"26.672.631/0001-40\";Microempreendedor Individual (MEI);;Mei;Em Operação;Meio de Hospedagem;Hotel;75.801.390;GO;Jataí;Vila Sofia;AV F 621 VILA SOFIA;(62) 3336-5269;;dyglacy@borgescontabil.com.br;;;\"09.086359.20.0001-0\";\"5510-8/01-HOTEL (Primário)\";2;0;0;0;23;Espanhol ',\n",
       "  'Inglês;;Banheiros Sociais em Áreas Comuns;']]"
      ]
     },
     "execution_count": 46,
     "metadata": {},
     "output_type": "execute_result"
    }
   ],
   "source": [
    "import pandas as pd\n",
    "import numpy as np\n",
    "import matplotlib.pyplot as plt\n",
    "\n",
    "%matplotlib inline\n",
    "\n",
    "arquivo = open(\"csv\\MeiodeHospedagem201704TrimestreCadasturPJ.csv\",\"r\")\n",
    "data_string = arquivo.read()\n",
    "linhas = data_string.split(\"\\n\")\n",
    "linha_string = []\n",
    "l_str = []\n",
    "for linha in linhas:\n",
    "    l_str.append(linha.split(\",\"))\n",
    "  \n",
    "        \n",
    "for linha in l_str:\n",
    "    for row in linha:\n",
    "        linha_string.append(row.split(\";\"))\n",
    "    \n",
    "#linha_string[0] # header\n",
    "#len(linha_string) - 1 # total prestadores de serviços turísticos cadastrados no Ministério do Turismo\n",
    "\n",
    "#linha_string[1] # exemplo dos dados sendo tratados\n",
    "l_str[0:2]\n"
   ]
  },
  {
   "cell_type": "code",
   "execution_count": null,
   "metadata": {},
   "outputs": [],
   "source": []
  },
  {
   "cell_type": "code",
   "execution_count": null,
   "metadata": {},
   "outputs": [],
   "source": []
  }
 ],
 "metadata": {
  "kernelspec": {
   "display_name": "Python 3",
   "language": "python",
   "name": "python3"
  },
  "language_info": {
   "codemirror_mode": {
    "name": "ipython",
    "version": 3
   },
   "file_extension": ".py",
   "mimetype": "text/x-python",
   "name": "python",
   "nbconvert_exporter": "python",
   "pygments_lexer": "ipython3",
   "version": "3.6.5"
  }
 },
 "nbformat": 4,
 "nbformat_minor": 2
}
